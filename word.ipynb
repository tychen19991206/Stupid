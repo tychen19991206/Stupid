{
  "nbformat": 4,
  "nbformat_minor": 0,
  "metadata": {
    "colab": {
      "name": "word.ipynb",
      "provenance": [],
      "authorship_tag": "ABX9TyPhhuqizc6bQXUDACWsxf9I",
      "include_colab_link": true
    },
    "kernelspec": {
      "name": "python3",
      "display_name": "Python 3"
    },
    "language_info": {
      "name": "python"
    }
  },
  "cells": [
    {
      "cell_type": "markdown",
      "metadata": {
        "id": "view-in-github",
        "colab_type": "text"
      },
      "source": [
        "<a href=\"https://colab.research.google.com/github/tychen19991206/Stupid/blob/main/word.ipynb\" target=\"_parent\"><img src=\"https://colab.research.google.com/assets/colab-badge.svg\" alt=\"Open In Colab\"/></a>"
      ]
    },
    {
      "cell_type": "code",
      "source": [
        "from google.colab import drive\n",
        "drive.mount('/content/drive')\n"
      ],
      "metadata": {
        "colab": {
          "base_uri": "https://localhost:8080/"
        },
        "id": "1INAHfROoI8S",
        "outputId": "9fef542f-3405-4ea6-f4c0-d17652fa8f86"
      },
      "execution_count": 5,
      "outputs": [
        {
          "output_type": "stream",
          "name": "stdout",
          "text": [
            "Drive already mounted at /content/drive; to attempt to forcibly remount, call drive.mount(\"/content/drive\", force_remount=True).\n"
          ]
        }
      ]
    },
    {
      "cell_type": "code",
      "source": [
        "!wiki_rdd = sc.text_file(\"drive/MyDrive/wiki.plain.text.line.spark.rdd.format\")\n",
        "lines = wiki_rdd.map(lambda line: line)"
      ],
      "metadata": {
        "colab": {
          "base_uri": "https://localhost:8080/",
          "height": 218
        },
        "id": "qHUQsGjoojHL",
        "outputId": "f546b631-06c0-46a4-f4a0-48a267cf14f5"
      },
      "execution_count": 7,
      "outputs": [
        {
          "output_type": "stream",
          "name": "stdout",
          "text": [
            "/bin/bash: -c: line 0: syntax error near unexpected token `('\n",
            "/bin/bash: -c: line 0: `wiki_rdd = sc.text_file(\"drive/MyDrive/wiki.plain.text.line.spark.rdd.format\")'\n"
          ]
        },
        {
          "output_type": "error",
          "ename": "NameError",
          "evalue": "ignored",
          "traceback": [
            "\u001b[0;31m---------------------------------------------------------------------------\u001b[0m",
            "\u001b[0;31mNameError\u001b[0m                                 Traceback (most recent call last)",
            "\u001b[0;32m<ipython-input-7-634eb2406393>\u001b[0m in \u001b[0;36m<module>\u001b[0;34m()\u001b[0m\n\u001b[1;32m      1\u001b[0m \u001b[0mget_ipython\u001b[0m\u001b[0;34m(\u001b[0m\u001b[0;34m)\u001b[0m\u001b[0;34m.\u001b[0m\u001b[0msystem\u001b[0m\u001b[0;34m(\u001b[0m\u001b[0;34m'wiki_rdd = sc.text_file(\"drive/MyDrive/wiki.plain.text.line.spark.rdd.format\")'\u001b[0m\u001b[0;34m)\u001b[0m\u001b[0;34m\u001b[0m\u001b[0;34m\u001b[0m\u001b[0m\n\u001b[0;32m----> 2\u001b[0;31m \u001b[0mlines\u001b[0m \u001b[0;34m=\u001b[0m \u001b[0mwiki_rdd\u001b[0m\u001b[0;34m.\u001b[0m\u001b[0mmap\u001b[0m\u001b[0;34m(\u001b[0m\u001b[0;32mlambda\u001b[0m \u001b[0mline\u001b[0m\u001b[0;34m:\u001b[0m \u001b[0mline\u001b[0m\u001b[0;34m)\u001b[0m\u001b[0;34m\u001b[0m\u001b[0;34m\u001b[0m\u001b[0m\n\u001b[0m",
            "\u001b[0;31mNameError\u001b[0m: name 'wiki_rdd' is not defined"
          ]
        }
      ]
    },
    {
      "cell_type": "code",
      "source": [
        "import codecs\n",
        "import matplotlib.pyplot as plt\n",
        "from pylab import mpl\n",
        "mpl.rcParams['font.sans-serif'] = ['FangSong'] # 指定預設字型\n",
        "mpl.rcParams['axes.unicode_minus'] = False # 解決儲存影象是負號'-'顯示為方塊的問題\n",
        "word = []\n",
        "counter = {}\n",
        "\n",
        "with codecs.open('data.txt') as fr:\n",
        "for line in fr:\n",
        "line = line.strip()\n",
        "if len(line) == 0:\n",
        "continue\n",
        "for w in line:\n",
        "if not w in word:\n",
        "word.append(w)\n",
        "if not w in counter:\n",
        "counter[w] = 0\n",
        "else:\n",
        "counter[w]  = 1\n",
        "counter_list = sorted(counter.items(), key=lambda x: x[1], reverse=True)\n",
        "print(counter_list[:50])\n",
        "label = list(map(lambda x: x[0], counter_list[:50]))\n",
        "value = list(map(lambda y: y[1], counter_list[:50]))\n",
        "plt.bar(range(len(value)), value, tick_label=label)\n",
        "plt.show()"
      ],
      "metadata": {
        "id": "vpZlT22TnzXu"
      },
      "execution_count": null,
      "outputs": []
    }
  ]
}